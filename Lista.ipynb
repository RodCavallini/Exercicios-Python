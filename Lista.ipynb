{
 "cells": [
  {
   "cell_type": "code",
   "execution_count": 14,
   "metadata": {},
   "outputs": [
    {
     "name": "stdout",
     "output_type": "stream",
     "text": [
      "Lista de números inteiros inseridos: [1, 2, 6, 8, 10]\n"
     ]
    }
   ],
   "source": [
    "# Cria uma lista vazia\n",
    "lista = []\n",
    "\n",
    "# Solicita ao usuário que insira 5 números inteiros\n",
    "for i in range(5):\n",
    "    numero = int(input(f\"Digite o {i + 1}º número inteiro: \"))\n",
    "    lista.append(numero)\n",
    "\n",
    "# Imprime a lista com os números inseridos pelo usuário\n",
    "print(\"Lista de números inteiros inseridos:\", lista)"
   ]
  }
 ],
 "metadata": {
  "kernelspec": {
   "display_name": "Python 3",
   "language": "python",
   "name": "python3"
  },
  "language_info": {
   "codemirror_mode": {
    "name": "ipython",
    "version": 3
   },
   "file_extension": ".py",
   "mimetype": "text/x-python",
   "name": "python",
   "nbconvert_exporter": "python",
   "pygments_lexer": "ipython3",
   "version": "3.12.4"
  }
 },
 "nbformat": 4,
 "nbformat_minor": 2
}
