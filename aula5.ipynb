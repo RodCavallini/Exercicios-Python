{
 "cells": [
  {
   "cell_type": "markdown",
   "metadata": {},
   "source": [
    "Exercicio 1\n"
   ]
  },
  {
   "cell_type": "code",
   "execution_count": 5,
   "metadata": {},
   "outputs": [
    {
     "name": "stdout",
     "output_type": "stream",
     "text": [
      "Area é de 15.0\n",
      "Perimetro é de 16.0\n"
     ]
    }
   ],
   "source": [
    "class Retangulo:\n",
    "    def __init__(self,base,altura) :\n",
    "        self.base = base\n",
    "        self.altura = altura\n",
    "\n",
    "    def area(self) :\n",
    "        return self.base * self.altura\n",
    "\n",
    "    def perimetro(self) :\n",
    "        return (self.base * 2) + (self.altura*2)\n",
    "\n",
    "        \n",
    "x = float(input(\"INFORME O VALOR DA BASE\"))\n",
    "y = float(input(\"INFORME O VALOR DA ALTURA\"))\n",
    "Retangulo1 = Retangulo(x,y)\n",
    "area1 = Retangulo1.area()\n",
    "perimetro1 = Retangulo1.perimetro()\n",
    "\n",
    "print(f\"Area é de {area1}\")\n",
    "print (f\"Perimetro é de {perimetro1}\")"
   ]
  },
  {
   "cell_type": "markdown",
   "metadata": {},
   "source": [
    "Exercicio 3"
   ]
  },
  {
   "cell_type": "code",
   "execution_count": 1,
   "metadata": {},
   "outputs": [
    {
     "name": "stdout",
     "output_type": "stream",
     "text": [
      "Saldo: 2000\n",
      "Saldo: 500\n",
      "Saldo insuficiente,seu saldo é 500\n"
     ]
    }
   ],
   "source": [
    "class Conta:\n",
    "    def __init__(self, titular, saldo=0):\n",
    "        self.titular = titular\n",
    "        self.saldo = saldo\n",
    "        \n",
    "    def depositar(self, valor):\n",
    "        self.saldo += valor\n",
    "        print(f\"Saldo: {self.saldo}\")\n",
    "        \n",
    "    def sacar(self, valor):\n",
    "        if self.saldo >= valor:\n",
    "            self.saldo -= valor\n",
    "            print(f\"Saldo: {self.saldo}\")\n",
    "        else:\n",
    "            print(f\"Saldo insuficiente,seu saldo é {self.saldo}\")\n",
    "\n",
    "conta1 = Conta(\"Cavallini\", 1000)\n",
    "conta1.depositar(1000)\n",
    "conta1.sacar(1500)\n",
    "conta1.sacar(700)"
   ]
  }
 ],
 "metadata": {
  "kernelspec": {
   "display_name": "Python 3",
   "language": "python",
   "name": "python3"
  },
  "language_info": {
   "codemirror_mode": {
    "name": "ipython",
    "version": 3
   },
   "file_extension": ".py",
   "mimetype": "text/x-python",
   "name": "python",
   "nbconvert_exporter": "python",
   "pygments_lexer": "ipython3",
   "version": "3.12.4"
  }
 },
 "nbformat": 4,
 "nbformat_minor": 2
}
