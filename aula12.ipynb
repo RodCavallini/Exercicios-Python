{
 "cells": [
  {
   "cell_type": "code",
   "execution_count": null,
   "metadata": {},
   "outputs": [],
   "source": [
    "import pandas as pd\n",
    "import requests \n",
    "import schedule\n",
    "import time"
   ]
  },
  {
   "cell_type": "code",
   "execution_count": 16,
   "metadata": {},
   "outputs": [],
   "source": [
    "url = \"https://restcountries.com/v3.1/all\"\n",
    "response = requests.get(url)"
   ]
  },
  {
   "cell_type": "code",
   "execution_count": 17,
   "metadata": {},
   "outputs": [],
   "source": [
    "if response.status_code == 200:\n",
    "    data_json = response.json()\n",
    "else:\n",
    "    print(\"Erro ao acessar a API\")"
   ]
  },
  {
   "cell_type": "code",
   "execution_count": null,
   "metadata": {},
   "outputs": [],
   "source": [
    "data_json"
   ]
  },
  {
   "cell_type": "code",
   "execution_count": null,
   "metadata": {},
   "outputs": [],
   "source": [
    "paises_full = pd.DataFrame(data_json)\n",
    "paises_full.head(2)"
   ]
  },
  {
   "cell_type": "code",
   "execution_count": null,
   "metadata": {},
   "outputs": [],
   "source": [
    "nome       = [pais['name']['common'] for pais in data_json]\n",
    "region     = [pais['region'] for pais in data_json]\n",
    "population = [pais['population'] for pais in data_json]\n",
    "\n",
    "paises = pd.DataFrame({\n",
    "    \"Nome\": nome,\n",
    "    \"Regiao\": region,\n",
    "    \"Populacao\": population\n",
    "})\n",
    "paises.head(3)"
   ]
  },
  {
   "cell_type": "code",
   "execution_count": null,
   "metadata": {},
   "outputs": [],
   "source": [
    "!pip install plyer"
   ]
  },
  {
   "cell_type": "code",
   "execution_count": null,
   "metadata": {},
   "outputs": [],
   "source": [
    "from plyer import notification \n",
    "notification.notify(\n",
    "     title='Título da notificação',\n",
    "     message='Mensagem da notificação',\n",
    "     app_name='Nome do aplicativo',\n",
    "     timeout=10 )"
   ]
  },
  {
   "cell_type": "code",
   "execution_count": null,
   "metadata": {},
   "outputs": [],
   "source": [
    "def minha_tarefa():\n",
    "    print(\"Executando minha tarefa\")\n",
    "#schedule.every(1).minutes.do(minha_tarefa)\n",
    "schedule.every(1).seconds.do(minha_tarefa)\n",
    "\n",
    "while True:\n",
    "    schedule.run_pending()\n",
    "    time.sleep(1)"
   ]
  },
  {
   "cell_type": "code",
   "execution_count": null,
   "metadata": {},
   "outputs": [],
   "source": [
    "def obter_info_aleatoria_wikipedia():\n",
    "    url = \"https://pt.wikipedia.org/api/rest_v1/page/random/summary\"\n",
    "    resposta = requests.get(url)\n",
    "\n",
    "    if resposta.status_code == 200:\n",
    "        dados = resposta.json()\n",
    "        print(f\"Título: {dados['title']}\")\n",
    "        print(f\"Resumo: {dados['extract']}\\n\")\n",
    "    else:\n",
    "        print(\"Erro ao acessar a Wikipédia\")\n",
    "\n",
    "# Agendar a função para ser chamada a cada 5 segundos\n",
    "schedule.every(5).seconds.do(obter_info_aleatoria_wikipedia)\n",
    "\n",
    "# Loop de execução\n",
    "while True:\n",
    "    schedule.run_pending()\n",
    "    time.sleep(1)"
   ]
  }
 ],
 "metadata": {
  "kernelspec": {
   "display_name": "Python 3",
   "language": "python",
   "name": "python3"
  },
  "language_info": {
   "codemirror_mode": {
    "name": "ipython",
    "version": 3
   },
   "file_extension": ".py",
   "mimetype": "text/x-python",
   "name": "python",
   "nbconvert_exporter": "python",
   "pygments_lexer": "ipython3",
   "version": "3.12.4"
  }
 },
 "nbformat": 4,
 "nbformat_minor": 2
}
