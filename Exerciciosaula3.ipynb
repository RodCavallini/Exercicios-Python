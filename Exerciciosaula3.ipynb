{
 "cells": [
  {
   "cell_type": "code",
   "execution_count": 18,
   "metadata": {},
   "outputs": [
    {
     "name": "stdout",
     "output_type": "stream",
     "text": [
      "PAR\n"
     ]
    }
   ],
   "source": [
    "numero = int(input(\"DIGITE UM NUMERO\"))\n",
    "if numero % 2 == 0 :\n",
    "    print(\"PAR\")\n",
    "else :\n",
    "    print(\"IMPAR\") "
   ]
  },
  {
   "cell_type": "code",
   "execution_count": 1,
   "metadata": {},
   "outputs": [
    {
     "name": "stdout",
     "output_type": "stream",
     "text": [
      "estou 5\n",
      "com 3\n",
      "sono 4\n"
     ]
    }
   ],
   "source": [
    "frase = input(\"Digite uma frase\")\n",
    "frase1 = frase.split()\n",
    "for i in frase1:\n",
    "  tamanho = len(i)\n",
    "  print(i,tamanho)\n"
   ]
  },
  {
   "cell_type": "code",
   "execution_count": 8,
   "metadata": {},
   "outputs": [
    {
     "name": "stdout",
     "output_type": "stream",
     "text": [
      "Senha correta\n"
     ]
    }
   ],
   "source": [
    "senha = input(\"DIGITE SUA SENHA\")\n",
    "while senha != \"1234\" :\n",
    "    senha = input(\"Senha incorreta , digite novamente\")\n",
    "print(\"Senha correta\")\n",
    "        \n",
    "\n",
    "    "
   ]
  },
  {
   "cell_type": "code",
   "execution_count": 9,
   "metadata": {},
   "outputs": [
    {
     "name": "stdout",
     "output_type": "stream",
     "text": [
      "O fatorial de 5 é 120\n"
     ]
    }
   ],
   "source": [
    "n = int(input(\"Digite um número inteiro: \"))\n",
    "fatorial = 1\n",
    "\n",
    "for i in range(1, n+1):\n",
    "    fatorial *= i\n",
    "\n",
    "print(\"O fatorial de\", n, \"é\", fatorial)"
   ]
  }
 ],
 "metadata": {
  "kernelspec": {
   "display_name": "Python 3",
   "language": "python",
   "name": "python3"
  },
  "language_info": {
   "codemirror_mode": {
    "name": "ipython",
    "version": 3
   },
   "file_extension": ".py",
   "mimetype": "text/x-python",
   "name": "python",
   "nbconvert_exporter": "python",
   "pygments_lexer": "ipython3",
   "version": "3.12.4"
  }
 },
 "nbformat": 4,
 "nbformat_minor": 2
}
