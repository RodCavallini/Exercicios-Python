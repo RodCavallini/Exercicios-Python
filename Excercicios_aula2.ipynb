{
 "cells": [
  {
   "cell_type": "code",
   "execution_count": 2,
   "metadata": {},
   "outputs": [
    {
     "name": "stdout",
     "output_type": "stream",
     "text": [
      "Seu novo saldo é 930.0\n"
     ]
    }
   ],
   "source": [
    "saldo = 950.60\n",
    "saque = float(input(\"Qual o valor você quer sacar? \"))\n",
    "saldo = saldo - saque\n",
    "print(f\"Seu novo saldo é {saldo}\")"
   ]
  },
  {
   "cell_type": "code",
   "execution_count": 17,
   "metadata": {},
   "outputs": [
    {
     "name": "stdout",
     "output_type": "stream",
     "text": [
      "A lista de frutas é ['Banana']\n",
      "A lista de frutas é ['Banana', 'Maca']\n",
      "A lista de frutas é ['Banana', 'Maca', 'Uva']\n",
      "A lista de frutas é ['Banana', 'Maca', 'Uva', 'Melao']\n",
      "A lista de frutas é ['Banana', 'Maca', 'Uva', 'Melao', 'Melancia']\n"
     ]
    }
   ],
   "source": [
    "lisFrutas = []\n",
    "while len(lisFrutas) < 5:\n",
    "    fruta = input(\"Digite o nome de uma fruta:\\n\")\n",
    "    if fruta.capitalize() not in lisFrutas:\n",
    "        lisFrutas.append(fruta.capitalize())\n",
    "        print(f\"A lista de frutas é {lisFrutas}\")\n",
    "    else:\n",
    "        print(\"Fruta repetida, desconsiderada\")"
   ]
  },
  {
   "cell_type": "code",
   "execution_count": 4,
   "metadata": {},
   "outputs": [
    {
     "data": {
      "text/plain": [
       "['maçã', 'abacaxi', 'laranja', 'manga', 'banana']"
      ]
     },
     "execution_count": 4,
     "metadata": {},
     "output_type": "execute_result"
    }
   ],
   "source": [
    "frutas = [\"banana\", \"maçã\", \"abacaxi\", \"laranja\", \"manga\"]\n",
    "\n",
    "fruta = input(\"Digite o nome de uma fruta: \")\n",
    "\n",
    "frutas.append(fruta)\n",
    "\n",
    "frutas = list(set(frutas))\n",
    "frutas"
   ]
  },
  {
   "cell_type": "code",
   "execution_count": 7,
   "metadata": {},
   "outputs": [
    {
     "name": "stdout",
     "output_type": "stream",
     "text": [
      "Frase com asteriscos , *lt* d* m*nh*\n"
     ]
    }
   ],
   "source": [
    "frase = input(\"Digite uma frase\")\n",
    "asteriscos = frase.replace(\"a\",\"*\").replace(\"e\",\"*\").replace(\"i\",\"*\").replace(\"o\",\"*\").replace(\"u\",\"*\").replace(\"A\",\"*\").replace(\"E\",\"*\").replace(\"I\",\"*\").replace(\"O\",\"*\").replace(\"U\",\"*\")\n",
    "print(f\"Frase com asteriscos , {asteriscos}\")"
   ]
  }
 ],
 "metadata": {
  "kernelspec": {
   "display_name": "Python 3",
   "language": "python",
   "name": "python3"
  },
  "language_info": {
   "codemirror_mode": {
    "name": "ipython",
    "version": 3
   },
   "file_extension": ".py",
   "mimetype": "text/x-python",
   "name": "python",
   "nbconvert_exporter": "python",
   "pygments_lexer": "ipython3",
   "version": "3.12.4"
  }
 },
 "nbformat": 4,
 "nbformat_minor": 2
}
