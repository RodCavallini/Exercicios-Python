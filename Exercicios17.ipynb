{
 "cells": [
  {
   "cell_type": "code",
   "execution_count": 14,
   "metadata": {},
   "outputs": [],
   "source": [
    "import pandas as pd\n",
    "import numpy as np\n",
    "from bs4 import BeautifulSoup\n",
    "import requests\n",
    "import re"
   ]
  },
  {
   "cell_type": "code",
   "execution_count": 16,
   "metadata": {},
   "outputs": [],
   "source": [
    "texto2 = \"\"\"Lorem ipsum dolor support3@ddd.com sit amet, consectetur adipiscing elit. Fusce dapibus, felis a tempor tristique, turpis enim feugiat tortor, a varius justo lectus sed velit. Ut eu ligula euismod, lacinia elit eu, commodo Nullam sales@salesforce.com lobortis lacus sed lorem malesuada, vel tristique quam tempus. Proin 3003-2312 aliquet malesuada condimentum arcu, id malesuada sagittis ex john.doe@uol.com scelerisque vitae. Suspendisse commodo, sapien eu vulputate viverra, metus nunc ultrices odio, at gravida turpis justo nec odio. In hac habitasse platea dictumst. Pellentesque habitant morbi tristique senectus et netus et malesuada fames ac turpis egestas. Sed eget leo ac justo commodo rutrum. Curabitur malesuada jane.smith@ddd.com luctus efficitur 98993-3102 mauris, vitae bibendum turpis. Nulla facilisi. In ullamcorper nisi vel congue pretium. Quisque sed enim non urna fermentum tincidunt.\"\"\""
   ]
  },
  {
   "cell_type": "markdown",
   "metadata": {},
   "source": [
    "## Exercício 1"
   ]
  },
  {
   "cell_type": "code",
   "execution_count": 17,
   "metadata": {},
   "outputs": [
    {
     "data": {
      "text/plain": [
       "['support3@ddd.com',\n",
       " 'sales@salesforce.com',\n",
       " 'john.doe@uol.com',\n",
       " 'jane.smith@ddd.com']"
      ]
     },
     "execution_count": 17,
     "metadata": {},
     "output_type": "execute_result"
    }
   ],
   "source": [
    "email = re.findall(\" ([a-z.0-9]+@[a-z.0-9]+) \",\n",
    "                     texto2)\n",
    "email"
   ]
  },
  {
   "cell_type": "markdown",
   "metadata": {},
   "source": [
    "## Exercício 2"
   ]
  },
  {
   "cell_type": "code",
   "execution_count": 60,
   "metadata": {},
   "outputs": [],
   "source": [
    "feriados = \"18/04/1982,1981/10/21,81/10/21,21/10/1981,17/05/1952/17/05/52,23/06/04,2004/06/23,23/06/2024\""
   ]
  },
  {
   "cell_type": "code",
   "execution_count": 61,
   "metadata": {},
   "outputs": [
    {
     "data": {
      "text/plain": [
       "['18/04/1982', '21/10/1981', '17/05/1952', '23/06/2024']"
      ]
     },
     "execution_count": 61,
     "metadata": {},
     "output_type": "execute_result"
    }
   ],
   "source": [
    "pattern = r\"\\d{2}/\\d{2}/\\d{4}\"\n",
    "datas = re.findall(pattern,\n",
    "                     feriados)\n",
    "datas"
   ]
  },
  {
   "cell_type": "markdown",
   "metadata": {},
   "source": [
    "## Exercício 3"
   ]
  },
  {
   "cell_type": "code",
   "execution_count": 62,
   "metadata": {},
   "outputs": [
    {
     "data": {
      "text/plain": [
       "200"
      ]
     },
     "execution_count": 62,
     "metadata": {},
     "output_type": "execute_result"
    }
   ],
   "source": [
    "url = 'https://www.google.com'\n",
    "response = requests.get(url)\n",
    "response.status_code"
   ]
  },
  {
   "cell_type": "code",
   "execution_count": 71,
   "metadata": {},
   "outputs": [
    {
     "name": "stdout",
     "output_type": "stream",
     "text": [
      "2\n"
     ]
    }
   ],
   "source": [
    "soup = BeautifulSoup(response.text, 'html.parser')\n",
    "imagens = soup.find_all('img')\n",
    "numero_imagens = len(imagens)\n",
    "print(numero_imagens)"
   ]
  },
  {
   "cell_type": "code",
   "execution_count": 72,
   "metadata": {},
   "outputs": [
    {
     "name": "stdout",
     "output_type": "stream",
     "text": [
      "Link: /images/branding/googlelogo/1x/googlelogo_white_background_color_272x92dp.png, Alt: Google\n",
      "Link: /textinputassistant/tia.png, Alt: \n"
     ]
    }
   ],
   "source": [
    "for img in imagens:\n",
    "    src = img['src']\n",
    "    alt = img['alt']\n",
    "    print(f\"Link: {src}, Alt: {alt}\")"
   ]
  }
 ],
 "metadata": {
  "kernelspec": {
   "display_name": "Python 3",
   "language": "python",
   "name": "python3"
  },
  "language_info": {
   "codemirror_mode": {
    "name": "ipython",
    "version": 3
   },
   "file_extension": ".py",
   "mimetype": "text/x-python",
   "name": "python",
   "nbconvert_exporter": "python",
   "pygments_lexer": "ipython3",
   "version": "3.12.4"
  }
 },
 "nbformat": 4,
 "nbformat_minor": 2
}
