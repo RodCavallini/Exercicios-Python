{
 "cells": [
  {
   "cell_type": "code",
   "execution_count": 2,
   "metadata": {},
   "outputs": [
    {
     "name": "stdout",
     "output_type": "stream",
     "text": [
      "Seu IMC é 24.61810377477591\n"
     ]
    }
   ],
   "source": [
    "peso = float(input(\"Qual seu peso_?\"))\n",
    "altura = float(input(\"Qual sua altura? Use o formato com ponto\"))\n",
    "IMC = peso/altura**2\n",
    "print(f\"Seu IMC é {IMC}\")"
   ]
  }
 ],
 "metadata": {
  "kernelspec": {
   "display_name": "Python 3",
   "language": "python",
   "name": "python3"
  },
  "language_info": {
   "codemirror_mode": {
    "name": "ipython",
    "version": 3
   },
   "file_extension": ".py",
   "mimetype": "text/x-python",
   "name": "python",
   "nbconvert_exporter": "python",
   "pygments_lexer": "ipython3",
   "version": "3.12.4"
  }
 },
 "nbformat": 4,
 "nbformat_minor": 2
}
